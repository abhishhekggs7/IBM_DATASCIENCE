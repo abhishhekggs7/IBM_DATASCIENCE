{
 "cells": [
  {
   "cell_type": "code",
   "execution_count": null,
   "metadata": {},
   "outputs": [],
   "source": []
  },
  {
   "cell_type": "code",
   "execution_count": 1,
   "metadata": {},
   "outputs": [],
   "source": [
    "# card class\n",
    "# suit rank value\n",
    "# deck class : to generate 52 card\n",
    "# player class : old cards fromm the deck\n",
    "# game logic \n"
   ]
  },
  {
   "cell_type": "code",
   "execution_count": null,
   "metadata": {},
   "outputs": [],
   "source": []
  },
  {
   "cell_type": "code",
   "execution_count": 60,
   "metadata": {},
   "outputs": [],
   "source": [
    "# card class\n",
    "# suit rank value"
   ]
  },
  {
   "cell_type": "code",
   "execution_count": 1,
   "metadata": {},
   "outputs": [],
   "source": [
    "import random\n",
    "suits = (\"Hearts\" ,\"Diamonds\", \"Spades\", \"Club\")\n",
    "ranks =('Two','Three','Four','Five','Six','Seven','Eight','Nine','Ten','Jack','Queen','King','Ace')\n",
    "values = {'Two':2,'Three': 3,'Four':4,'Five':5,'Six':6,'Seven':2,'Eight':8,'Nine':9,'Ten':10,'Jack':11,'Queen':12,'King':13, 'Ace':14}"
   ]
  },
  {
   "cell_type": "code",
   "execution_count": 2,
   "metadata": {},
   "outputs": [],
   "source": [
    "class Card():\n",
    "    def __init__(self,suit,rank):\n",
    "#         values are provived by us\n",
    "        self.suit = suit\n",
    "        self.rank = rank\n",
    "        self.values = values[rank]\n",
    "        \n",
    "    def __str__(self):\n",
    "        return self.rank+ \" of \" + self.suit"
   ]
  },
  {
   "cell_type": "code",
   "execution_count": 3,
   "metadata": {},
   "outputs": [],
   "source": [
    "mycard = Card(\"Spades\" ,\"Two\")"
   ]
  },
  {
   "cell_type": "code",
   "execution_count": 4,
   "metadata": {},
   "outputs": [
    {
     "data": {
      "text/plain": [
       "'Two'"
      ]
     },
     "execution_count": 4,
     "metadata": {},
     "output_type": "execute_result"
    }
   ],
   "source": [
    "mycard.rank"
   ]
  },
  {
   "cell_type": "code",
   "execution_count": 5,
   "metadata": {},
   "outputs": [
    {
     "data": {
      "text/plain": [
       "'Spades'"
      ]
     },
     "execution_count": 5,
     "metadata": {},
     "output_type": "execute_result"
    }
   ],
   "source": [
    "mycard.suit"
   ]
  },
  {
   "cell_type": "code",
   "execution_count": 6,
   "metadata": {},
   "outputs": [
    {
     "name": "stdout",
     "output_type": "stream",
     "text": [
      "Two of Spades\n"
     ]
    }
   ],
   "source": [
    "print(mycard)"
   ]
  },
  {
   "cell_type": "code",
   "execution_count": 7,
   "metadata": {},
   "outputs": [],
   "source": [
    "values = {'Two':2,'Three': 3,'Four':4,'Five':5,'Six':6,'Seven':2,'Eight':8,'Nine':9,'Ten':10,'Jack':11,'Queen':12,'King':13, 'Ace':14}"
   ]
  },
  {
   "cell_type": "code",
   "execution_count": 8,
   "metadata": {},
   "outputs": [
    {
     "data": {
      "text/plain": [
       "'Spades'"
      ]
     },
     "execution_count": 8,
     "metadata": {},
     "output_type": "execute_result"
    }
   ],
   "source": [
    "mycard.suit"
   ]
  },
  {
   "cell_type": "code",
   "execution_count": 9,
   "metadata": {},
   "outputs": [
    {
     "name": "stdout",
     "output_type": "stream",
     "text": [
      "Two of Spades\n"
     ]
    }
   ],
   "source": [
    "print(mycard)"
   ]
  },
  {
   "cell_type": "code",
   "execution_count": 10,
   "metadata": {},
   "outputs": [
    {
     "data": {
      "text/plain": [
       "2"
      ]
     },
     "execution_count": 10,
     "metadata": {},
     "output_type": "execute_result"
    }
   ],
   "source": [
    "values[mycard.rank]"
   ]
  },
  {
   "cell_type": "code",
   "execution_count": 11,
   "metadata": {},
   "outputs": [
    {
     "data": {
      "text/plain": [
       "2"
      ]
     },
     "execution_count": 11,
     "metadata": {},
     "output_type": "execute_result"
    }
   ],
   "source": [
    "\n",
    "\n",
    "mycard.values"
   ]
  },
  {
   "cell_type": "code",
   "execution_count": 12,
   "metadata": {},
   "outputs": [],
   "source": [
    "three_of_club = Card(\"Club\",\"Three\")"
   ]
  },
  {
   "cell_type": "code",
   "execution_count": 13,
   "metadata": {},
   "outputs": [
    {
     "name": "stdout",
     "output_type": "stream",
     "text": [
      "Three of Club\n"
     ]
    }
   ],
   "source": [
    "print(three_of_club)"
   ]
  },
  {
   "cell_type": "code",
   "execution_count": 14,
   "metadata": {},
   "outputs": [
    {
     "data": {
      "text/plain": [
       "'Three'"
      ]
     },
     "execution_count": 14,
     "metadata": {},
     "output_type": "execute_result"
    }
   ],
   "source": [
    "three_of_club.rank"
   ]
  },
  {
   "cell_type": "code",
   "execution_count": 15,
   "metadata": {},
   "outputs": [
    {
     "data": {
      "text/plain": [
       "'Club'"
      ]
     },
     "execution_count": 15,
     "metadata": {},
     "output_type": "execute_result"
    }
   ],
   "source": [
    "three_of_club.suit"
   ]
  },
  {
   "cell_type": "code",
   "execution_count": 16,
   "metadata": {},
   "outputs": [
    {
     "data": {
      "text/plain": [
       "3"
      ]
     },
     "execution_count": 16,
     "metadata": {},
     "output_type": "execute_result"
    }
   ],
   "source": [
    "three_of_club.values"
   ]
  },
  {
   "cell_type": "code",
   "execution_count": 17,
   "metadata": {},
   "outputs": [
    {
     "data": {
      "text/plain": [
       "True"
      ]
     },
     "execution_count": 17,
     "metadata": {},
     "output_type": "execute_result"
    }
   ],
   "source": [
    "three_of_club.values > mycard.values"
   ]
  },
  {
   "cell_type": "code",
   "execution_count": 18,
   "metadata": {},
   "outputs": [],
   "source": [
    "# deck class : to generate 52 card"
   ]
  },
  {
   "cell_type": "code",
   "execution_count": 19,
   "metadata": {},
   "outputs": [],
   "source": [
    "class Deck:\n",
    "    \n",
    "    def __init__(self):\n",
    "        self.all_cards = []\n",
    "        \n",
    "        for suit in suits:\n",
    "            for rank in ranks:\n",
    "                \n",
    "                created_card = Card(suit,rank)\n",
    "                \n",
    "                self.all_cards.append(created_card)\n",
    "    def shuffle(self):\n",
    "        random.shuffle(self.all_cards)\n",
    "    def deal_one(self):\n",
    "        return self.all_cards.pop()"
   ]
  },
  {
   "cell_type": "code",
   "execution_count": 20,
   "metadata": {},
   "outputs": [],
   "source": [
    "new_deck = Deck()"
   ]
  },
  {
   "cell_type": "code",
   "execution_count": 21,
   "metadata": {},
   "outputs": [
    {
     "data": {
      "text/plain": [
       "52"
      ]
     },
     "execution_count": 21,
     "metadata": {},
     "output_type": "execute_result"
    }
   ],
   "source": [
    "len(new_deck.all_cards)"
   ]
  },
  {
   "cell_type": "code",
   "execution_count": 22,
   "metadata": {},
   "outputs": [],
   "source": [
    "new_deck.all_cards\n",
    "pass"
   ]
  },
  {
   "cell_type": "code",
   "execution_count": 23,
   "metadata": {},
   "outputs": [],
   "source": [
    "first_card =new_deck.all_cards[0]"
   ]
  },
  {
   "cell_type": "code",
   "execution_count": 24,
   "metadata": {},
   "outputs": [
    {
     "name": "stdout",
     "output_type": "stream",
     "text": [
      "Two of Hearts\n"
     ]
    }
   ],
   "source": [
    "print(first_card)"
   ]
  },
  {
   "cell_type": "code",
   "execution_count": 25,
   "metadata": {},
   "outputs": [],
   "source": [
    "last_card =new_deck.all_cards[-1]"
   ]
  },
  {
   "cell_type": "code",
   "execution_count": 26,
   "metadata": {},
   "outputs": [
    {
     "name": "stdout",
     "output_type": "stream",
     "text": [
      "Ace of Club\n"
     ]
    }
   ],
   "source": [
    "print(last_card)"
   ]
  },
  {
   "cell_type": "code",
   "execution_count": null,
   "metadata": {},
   "outputs": [],
   "source": []
  },
  {
   "cell_type": "code",
   "execution_count": 27,
   "metadata": {},
   "outputs": [
    {
     "name": "stdout",
     "output_type": "stream",
     "text": [
      "Two of Hearts\n",
      "Three of Hearts\n",
      "Four of Hearts\n",
      "Five of Hearts\n",
      "Six of Hearts\n",
      "Seven of Hearts\n",
      "Eight of Hearts\n",
      "Nine of Hearts\n",
      "Ten of Hearts\n",
      "Jack of Hearts\n",
      "Queen of Hearts\n",
      "King of Hearts\n",
      "Ace of Hearts\n",
      "Two of Diamonds\n",
      "Three of Diamonds\n",
      "Four of Diamonds\n",
      "Five of Diamonds\n",
      "Six of Diamonds\n",
      "Seven of Diamonds\n",
      "Eight of Diamonds\n",
      "Nine of Diamonds\n",
      "Ten of Diamonds\n",
      "Jack of Diamonds\n",
      "Queen of Diamonds\n",
      "King of Diamonds\n",
      "Ace of Diamonds\n",
      "Two of Spades\n",
      "Three of Spades\n",
      "Four of Spades\n",
      "Five of Spades\n",
      "Six of Spades\n",
      "Seven of Spades\n",
      "Eight of Spades\n",
      "Nine of Spades\n",
      "Ten of Spades\n",
      "Jack of Spades\n",
      "Queen of Spades\n",
      "King of Spades\n",
      "Ace of Spades\n",
      "Two of Club\n",
      "Three of Club\n",
      "Four of Club\n",
      "Five of Club\n",
      "Six of Club\n",
      "Seven of Club\n",
      "Eight of Club\n",
      "Nine of Club\n",
      "Ten of Club\n",
      "Jack of Club\n",
      "Queen of Club\n",
      "King of Club\n",
      "Ace of Club\n"
     ]
    }
   ],
   "source": [
    "for all_cardss in new_deck.all_cards:\n",
    "    pass\n",
    "    print(all_cardss)"
   ]
  },
  {
   "cell_type": "code",
   "execution_count": 28,
   "metadata": {},
   "outputs": [],
   "source": [
    "newest_deck = Deck()"
   ]
  },
  {
   "cell_type": "code",
   "execution_count": 29,
   "metadata": {},
   "outputs": [],
   "source": [
    "newest_deck.shuffle()"
   ]
  },
  {
   "cell_type": "code",
   "execution_count": 30,
   "metadata": {},
   "outputs": [
    {
     "name": "stdout",
     "output_type": "stream",
     "text": [
      "Two of Hearts\n"
     ]
    }
   ],
   "source": [
    "print(newest_deck.all_cards[-1])"
   ]
  },
  {
   "cell_type": "code",
   "execution_count": 31,
   "metadata": {},
   "outputs": [],
   "source": [
    "# print(newest_deck.deal_one()) remove the card"
   ]
  },
  {
   "cell_type": "code",
   "execution_count": 32,
   "metadata": {},
   "outputs": [
    {
     "data": {
      "text/plain": [
       "52"
      ]
     },
     "execution_count": 32,
     "metadata": {},
     "output_type": "execute_result"
    }
   ],
   "source": [
    "len(newest_deck.all_cards)"
   ]
  },
  {
   "cell_type": "code",
   "execution_count": 33,
   "metadata": {},
   "outputs": [],
   "source": [
    "class Player:\n",
    "    \n",
    "    def __init__(self,name):\n",
    "        self.name = name\n",
    "        self.all_cards =  []\n",
    "        \n",
    "    def remove_one(self):\n",
    "        return self.all_cards.pop(0)\n",
    "    \n",
    "    def add_cards(self,new_cards):\n",
    "        if type(new_cards) == type([]):\n",
    "            self.all_cards.extend(new_cards)\n",
    "        else:\n",
    "            self.all_cards.append(new_cards)\n",
    "        \n",
    "    def __str__(self):\n",
    "        return(\"Player {} has {} cards\" .format(self.name,len(self.all_cards) ))\n",
    "        "
   ]
  },
  {
   "cell_type": "code",
   "execution_count": 34,
   "metadata": {},
   "outputs": [],
   "source": [
    "new_player = Player(\"ABHISHEK\")"
   ]
  },
  {
   "cell_type": "code",
   "execution_count": 35,
   "metadata": {},
   "outputs": [
    {
     "name": "stdout",
     "output_type": "stream",
     "text": [
      "Player ABHISHEK has 0 cards\n"
     ]
    }
   ],
   "source": [
    "print(new_player)"
   ]
  },
  {
   "cell_type": "code",
   "execution_count": 36,
   "metadata": {},
   "outputs": [],
   "source": [
    "new_player.add_cards(all_cardss)"
   ]
  },
  {
   "cell_type": "code",
   "execution_count": 37,
   "metadata": {},
   "outputs": [
    {
     "name": "stdout",
     "output_type": "stream",
     "text": [
      "Ace of Club\n"
     ]
    }
   ],
   "source": [
    "print(new_player.all_cards[0])"
   ]
  },
  {
   "cell_type": "code",
   "execution_count": 38,
   "metadata": {},
   "outputs": [
    {
     "name": "stdout",
     "output_type": "stream",
     "text": [
      "Player ABHISHEK has 1 cards\n"
     ]
    }
   ],
   "source": [
    "print(new_player)"
   ]
  },
  {
   "cell_type": "code",
   "execution_count": 39,
   "metadata": {},
   "outputs": [],
   "source": [
    "new_player.add_cards(all_cardss)"
   ]
  },
  {
   "cell_type": "code",
   "execution_count": 40,
   "metadata": {},
   "outputs": [
    {
     "name": "stdout",
     "output_type": "stream",
     "text": [
      "Player ABHISHEK has 2 cards\n"
     ]
    }
   ],
   "source": [
    "print(new_player)"
   ]
  },
  {
   "cell_type": "code",
   "execution_count": 41,
   "metadata": {},
   "outputs": [
    {
     "data": {
      "text/plain": [
       "<__main__.Card at 0x163cbcf95b0>"
      ]
     },
     "execution_count": 41,
     "metadata": {},
     "output_type": "execute_result"
    }
   ],
   "source": [
    "new_player.remove_one()"
   ]
  },
  {
   "cell_type": "code",
   "execution_count": 42,
   "metadata": {},
   "outputs": [
    {
     "name": "stdout",
     "output_type": "stream",
     "text": [
      "Player ABHISHEK has 1 cards\n"
     ]
    }
   ],
   "source": [
    "print(new_player)"
   ]
  },
  {
   "cell_type": "code",
   "execution_count": 43,
   "metadata": {},
   "outputs": [
    {
     "data": {
      "text/plain": [
       "<__main__.Card at 0x163cbcf95b0>"
      ]
     },
     "execution_count": 43,
     "metadata": {},
     "output_type": "execute_result"
    }
   ],
   "source": [
    "new_player.remove_one()"
   ]
  },
  {
   "cell_type": "code",
   "execution_count": 44,
   "metadata": {},
   "outputs": [
    {
     "name": "stdout",
     "output_type": "stream",
     "text": [
      "Player ABHISHEK has 0 cards\n"
     ]
    }
   ],
   "source": [
    "print(new_player)"
   ]
  },
  {
   "cell_type": "code",
   "execution_count": 45,
   "metadata": {},
   "outputs": [],
   "source": [
    "Player_1 = Player(\"one\")\n",
    "Player_2 = Player(\"two\")\n",
    "\n",
    "new_deck = Deck()\n",
    "new_deck.shuffle()\n",
    "\n",
    "for x in range(26):\n",
    "    Player_1.add_cards(new_deck.deal_one())\n",
    "    Player_2.add_cards(new_deck.deal_one())\n",
    "    \n",
    "     "
   ]
  },
  {
   "cell_type": "code",
   "execution_count": 50,
   "metadata": {},
   "outputs": [
    {
     "name": "stdout",
     "output_type": "stream",
     "text": [
      " Round no is 1\n",
      " Round no is 2\n",
      " Round no is 3\n",
      " Round no is 4\n",
      " Round no is 5\n",
      " Round no is 6\n",
      " Round no is 7\n",
      " Round no is 8\n",
      " Round no is 9\n",
      " Round no is 10\n",
      " Round no is 11\n",
      " Round no is 12\n",
      " Round no is 13\n",
      " Round no is 14\n",
      " Round no is 15\n",
      " Round no is 16\n",
      " Round no is 17\n",
      " Round no is 18\n",
      " Round no is 19\n",
      " Round no is 20\n",
      " Round no is 21\n",
      " Round no is 22\n",
      " Round no is 23\n",
      " Round no is 24\n",
      " Round no is 25\n",
      " Round no is 26\n",
      " Round no is 27\n",
      " Round no is 28\n",
      " Round no is 29\n",
      " Round no is 30\n",
      " Round no is 31\n",
      "WAR!\n",
      " Round no is 32\n",
      " Round no is 33\n",
      " Round no is 34\n",
      " Round no is 35\n",
      " Round no is 36\n",
      " Round no is 37\n",
      " Round no is 38\n",
      " Round no is 39\n",
      " Round no is 40\n",
      " Round no is 41\n",
      " Round no is 42\n",
      " Round no is 43\n",
      " Round no is 44\n",
      " Round no is 45\n",
      "WAR!\n",
      " Round no is 46\n",
      " Round no is 47\n",
      " Round no is 48\n",
      " Round no is 49\n",
      " Round no is 50\n",
      " Round no is 51\n",
      " Round no is 52\n",
      " Round no is 53\n",
      " Round no is 54\n",
      " Round no is 55\n",
      " Round no is 56\n",
      " Round no is 57\n",
      " Round no is 58\n",
      " Round no is 59\n",
      " Round no is 60\n",
      "WAR!\n",
      " Round no is 61\n",
      " Round no is 62\n",
      " Round no is 63\n",
      " Round no is 64\n",
      " Round no is 65\n",
      " Round no is 66\n",
      " Round no is 67\n",
      " Round no is 68\n",
      " Round no is 69\n",
      " Round no is 70\n",
      " Round no is 71\n",
      " Round no is 72\n",
      " Round no is 73\n",
      " Round no is 74\n",
      " Round no is 75\n",
      " Round no is 76\n",
      " Round no is 77\n",
      " Round no is 78\n",
      " Round no is 79\n",
      " Round no is 80\n",
      " Round no is 81\n",
      " Round no is 82\n",
      " Round no is 83\n",
      " Round no is 84\n",
      " Round no is 85\n",
      " Round no is 86\n",
      " Round no is 87\n",
      " Round no is 88\n",
      " Round no is 89\n",
      " Round no is 90\n",
      "WAR!\n",
      " Round no is 91\n",
      " Round no is 92\n",
      " Round no is 93\n",
      " Round no is 94\n",
      " Round no is 95\n",
      " Round no is 96\n",
      " Round no is 97\n",
      " Round no is 98\n",
      " Round no is 99\n",
      " Round no is 100\n",
      " Round no is 101\n",
      " Round no is 102\n",
      " Round no is 103\n",
      " Round no is 104\n",
      " Round no is 105\n",
      "WAR!\n",
      " Round no is 106\n",
      " Round no is 107\n",
      " Round no is 108\n",
      " Round no is 109\n",
      " Round no is 110\n",
      " Round no is 111\n",
      " Round no is 112\n",
      " Round no is 113\n",
      " Round no is 114\n",
      " Round no is 115\n",
      " Round no is 116\n",
      " Round no is 117\n",
      " Round no is 118\n",
      " Round no is 119\n",
      " Round no is 120\n",
      " Round no is 121\n",
      " Round no is 122\n",
      " Round no is 123\n",
      " Round no is 124\n",
      " Round no is 125\n",
      " Round no is 126\n",
      " Round no is 127\n",
      " Round no is 128\n",
      " Round no is 129\n",
      " Round no is 130\n",
      " Round no is 131\n",
      " Round no is 132\n",
      " Round no is 133\n",
      " Round no is 134\n",
      " Round no is 135\n",
      " Round no is 136\n",
      " Round no is 137\n",
      " Round no is 138\n",
      " Round no is 139\n",
      " Round no is 140\n",
      " Round no is 141\n",
      " Round no is 142\n",
      " Round no is 143\n",
      " Round no is 144\n",
      " Round no is 145\n",
      " Round no is 146\n",
      " Round no is 147\n",
      " Round no is 148\n",
      " Round no is 149\n",
      " Round no is 150\n",
      " Round no is 151\n",
      " Round no is 152\n",
      " Round no is 153\n",
      " Round no is 154\n",
      " Round no is 155\n",
      " Round no is 156\n",
      " Round no is 157\n",
      " Round no is 158\n",
      " Round no is 159\n",
      " Round no is 160\n",
      " Round no is 161\n",
      " Round no is 162\n",
      " Round no is 163\n",
      " Round no is 164\n",
      " Round no is 165\n",
      " Round no is 166\n",
      " Round no is 167\n",
      " Round no is 168\n",
      " Round no is 169\n",
      " Round no is 170\n",
      " Round no is 171\n",
      " Round no is 172\n",
      " Round no is 173\n",
      " Round no is 174\n",
      "WAR!\n",
      " Round no is 175\n",
      " Round no is 176\n",
      " Round no is 177\n",
      " Round no is 178\n",
      " Round no is 179\n",
      " Round no is 180\n",
      " Round no is 181\n",
      " Round no is 182\n",
      " Round no is 183\n",
      " Round no is 184\n",
      " Round no is 185\n",
      " Round no is 186\n",
      " Round no is 187\n",
      " Round no is 188\n",
      " Round no is 189\n",
      " Round no is 190\n",
      " Round no is 191\n",
      " Round no is 192\n",
      " Round no is 193\n",
      " Round no is 194\n",
      " Round no is 195\n",
      "WAR!\n",
      " Round no is 196\n",
      " Round no is 197\n",
      " Round no is 198\n",
      " Round no is 199\n",
      " Round no is 200\n",
      " Round no is 201\n",
      " Round no is 202\n",
      " Round no is 203\n",
      " Round no is 204\n",
      " Round no is 205\n",
      " Round no is 206\n",
      " Round no is 207\n",
      " Round no is 208\n",
      "WAR!\n",
      " Round no is 209\n",
      " Round no is 210\n",
      " Round no is 211\n",
      "WAR!\n",
      " Round no is 212\n",
      " Round no is 213\n",
      " Round no is 214\n",
      " Round no is 215\n",
      " Round no is 216\n",
      " Round no is 217\n",
      " Round no is 218\n",
      " Round no is 219\n",
      " Round no is 220\n",
      " Round no is 221\n",
      " Round no is 222\n",
      " Round no is 223\n",
      " Round no is 224\n",
      " Round no is 225\n",
      " Round no is 226\n",
      " Round no is 227\n",
      " Round no is 228\n",
      " Round no is 229\n",
      " Round no is 230\n",
      " Round no is 231\n",
      " Round no is 232\n",
      " Round no is 233\n",
      " Round no is 234\n",
      " Round no is 235\n",
      " Round no is 236\n",
      " Round no is 237\n",
      " Round no is 238\n",
      " Round no is 239\n",
      " Round no is 240\n",
      " Round no is 241\n",
      " Round no is 242\n",
      " Round no is 243\n",
      " Round no is 244\n",
      " Round no is 245\n",
      " Round no is 246\n",
      " Round no is 247\n",
      " Round no is 248\n",
      " Round no is 249\n",
      " Round no is 250\n",
      " Round no is 251\n",
      " Round no is 252\n",
      " Round no is 253\n",
      " Round no is 254\n",
      " Round no is 255\n",
      " Round no is 256\n",
      "WAR!\n",
      " Round no is 257\n",
      " Round no is 258\n",
      " Round no is 259\n",
      " Round no is 260\n",
      " Round no is 261\n",
      " Round no is 262\n",
      " Round no is 263\n",
      " Round no is 264\n",
      " Round no is 265\n",
      " Round no is 266\n",
      " Round no is 267\n",
      " Round no is 268\n",
      " Round no is 269\n",
      " Round no is 270\n",
      " Round no is 271\n",
      " Round no is 272\n",
      " Round no is 273\n",
      " Round no is 274\n",
      " Round no is 275\n",
      " Round no is 276\n",
      " Round no is 277\n",
      " Round no is 278\n",
      " Round no is 279\n",
      " Round no is 280\n",
      " Round no is 281\n",
      "Player 1 has no cards!!!, Player 2 wins\n"
     ]
    }
   ],
   "source": [
    "Game_on = True\n",
    "round_num = 0\n",
    "\n",
    "while Game_on:\n",
    "    round_num+=1\n",
    "    print(f' Round no is {round_num}')\n",
    "    \n",
    "    if len(Player_1.all_cards)==0:\n",
    "        print(\"Player 1 has no cards!!!, Player 2 wins\")\n",
    "        Game_on = False\n",
    "        break\n",
    "    if len(Player_2.all_cards)==0:\n",
    "        print(\"Player 2 has no cards!!!, Player 1 wins\")\n",
    "        Game_on = False\n",
    "        break\n",
    "        \n",
    "    Player_1_cards = []\n",
    "    Player_1_cards.append(Player_1.remove_one())\n",
    "    Player_2_cards = []\n",
    "    Player_2_cards.append(Player_2.remove_one())\n",
    "    \n",
    "    at_war = True\n",
    "\n",
    "    while at_war:\n",
    "\n",
    "\n",
    "        if Player_1_cards[-1].values > Player_2_cards[-1].values:\n",
    "\n",
    "            # Player One gets the cards\n",
    "            Player_1.add_cards(Player_1_cards)\n",
    "            Player_1.add_cards(Player_2_cards)\n",
    "            \n",
    "            \n",
    "            # No Longer at \"war\" , time for next round\n",
    "            at_war = False\n",
    "        \n",
    "        # Player Two Has higher Card\n",
    "        elif Player_1_cards[-1].values < Player_2_cards[-1].values:\n",
    "\n",
    "            # Player Two gets the cards\n",
    "            Player_2.add_cards(Player_1_cards)\n",
    "            Player_2.add_cards(Player_2_cards)\n",
    "            \n",
    "            # No Longer at \"war\" , time for next round\n",
    "            at_war = False\n",
    "            \n",
    "        else:\n",
    "            print('WAR!')\n",
    "            # This occurs when the cards are equal.\n",
    "            # We'll grab another card each and continue the current war.\n",
    "            \n",
    "            # First check to see if player has enough cards\n",
    "            \n",
    "            # Check to see if a player is out of cards:\n",
    "            if len(Player_1.all_cards) < 5:\n",
    "                print(\"Player One unable to play war! Game Over at War\")\n",
    "                print(\"Player Two Wins! Player One Loses!\")\n",
    "                game_on = False\n",
    "                break\n",
    "\n",
    "            elif len(Player_2.all_cards) < 5:\n",
    "                print(\"Player Two unable to play war! Game Over at War\")\n",
    "                print(\"Player One Wins! Player One Loses!\")\n",
    "                game_on = False\n",
    "                break\n",
    "            # Otherwise, we're still at war, so we'll add the next cards\n",
    "            else:\n",
    "                for num in range(5):\n",
    "                    Player_1_cards.append(Player_1.remove_one())\n",
    "                    Player_2_cards.append(Player_2.remove_one())\n",
    "        "
   ]
  },
  {
   "cell_type": "code",
   "execution_count": null,
   "metadata": {},
   "outputs": [],
   "source": []
  },
  {
   "cell_type": "code",
   "execution_count": null,
   "metadata": {},
   "outputs": [],
   "source": []
  },
  {
   "cell_type": "code",
   "execution_count": null,
   "metadata": {},
   "outputs": [],
   "source": []
  },
  {
   "cell_type": "code",
   "execution_count": null,
   "metadata": {},
   "outputs": [],
   "source": []
  },
  {
   "cell_type": "code",
   "execution_count": null,
   "metadata": {},
   "outputs": [],
   "source": []
  },
  {
   "cell_type": "code",
   "execution_count": null,
   "metadata": {},
   "outputs": [],
   "source": []
  },
  {
   "cell_type": "code",
   "execution_count": null,
   "metadata": {},
   "outputs": [],
   "source": []
  },
  {
   "cell_type": "code",
   "execution_count": null,
   "metadata": {},
   "outputs": [],
   "source": []
  },
  {
   "cell_type": "code",
   "execution_count": null,
   "metadata": {},
   "outputs": [],
   "source": []
  }
 ],
 "metadata": {
  "kernelspec": {
   "display_name": "Python 3",
   "language": "python",
   "name": "python3"
  },
  "language_info": {
   "codemirror_mode": {
    "name": "ipython",
    "version": 3
   },
   "file_extension": ".py",
   "mimetype": "text/x-python",
   "name": "python",
   "nbconvert_exporter": "python",
   "pygments_lexer": "ipython3",
   "version": "3.8.3"
  }
 },
 "nbformat": 4,
 "nbformat_minor": 4
}
